{
 "cells": [
  {
   "cell_type": "code",
   "execution_count": null,
   "metadata": {},
   "outputs": [],
   "source": [
    "import os\n",
    "import pandas as pd\n",
    "from datetime import datetime\n",
    "\n",
    "def merge_csv_files(directory):\n",
    "    # List to hold file paths and their creation times\n",
    "    file_data = []\n",
    "\n",
    "    # Iterate over all files in the directory\n",
    "    for filename in os.listdir(directory):\n",
    "        if filename.startswith(\"2024\") and filename.endswith(\".csv\"):\n",
    "            file_path = os.path.join(directory, filename)\n",
    "            creation_time = os.path.getctime(file_path)\n",
    "            file_data.append((file_path, creation_time))\n",
    "    \n",
    "    # Sort files based on their creation time (oldest first)\n",
    "    file_data.sort(key=lambda x: x[1])\n",
    "\n",
    "    # List to hold dataframes\n",
    "    dfs = []\n",
    "\n",
    "    for file_path, _ in file_data:\n",
    "        df = pd.read_csv(file_path)\n",
    "        dfs.append(df)\n",
    "\n",
    "    # Concatenate all dataframes into one\n",
    "    merged_df = pd.concat(dfs, ignore_index=True)\n",
    "\n",
    "    # Save the merged dataframe to a new CSV file\n",
    "    output_file = os.path.join(directory, \"merged_output.csv\")\n",
    "    merged_df.to_csv(output_file, index=False)\n",
    "\n",
    "    print(f\"Merged file saved as: {output_file}\")\n",
    "\n",
    "# Example usage\n",
    "directory = '/home/jonas/Code/relevant-evidence-detection/results'\n",
    "merge_csv_files(directory)\n"
   ]
  }
 ],
 "metadata": {
  "kernelspec": {
   "display_name": "mai",
   "language": "python",
   "name": "python3"
  },
  "language_info": {
   "name": "python",
   "version": "3.9.19"
  }
 },
 "nbformat": 4,
 "nbformat_minor": 2
}

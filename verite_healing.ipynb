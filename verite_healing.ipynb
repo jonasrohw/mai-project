{
 "cells": [
  {
   "cell_type": "code",
   "execution_count": 3,
   "metadata": {},
   "outputs": [
    {
     "name": "stdout",
     "output_type": "stream",
     "text": [
      "Paths have been updated and the file has been saved as 'updated_csv_file.csv'\n"
     ]
    }
   ],
   "source": [
    "import pandas as pd\n",
    "\n",
    "# Load the CSV file into a DataFrame\n",
    "df = pd.read_csv('data/VERITE/VERITE_with_evidence.csv')\n",
    "\n",
    "# Function to update the image paths to the desired relative path\n",
    "def update_paths(path):\n",
    "    #new_path = path.replace('/fssd7/user-data/stefpapad/MISINFO/FIGMENTS/external_evidence', '../data/VERITE/external_evidence')\n",
    "    new_path = path.replace('/data/VERITE/external_evidence', 'data/VERITE/external_evidence')\n",
    "    return new_path\n",
    "\n",
    "# Update the 'image_path' and 'images_paths' columns\n",
    "df['image_path'] = df['image_path'].apply(update_paths)\n",
    "df['images_paths'] = df['images_paths'].apply(lambda x: str([update_paths(p) for p in eval(x)]))\n",
    "\n",
    "# Save the updated DataFrame back to a CSV file\n",
    "df.to_csv('data/VERITE/VERITE_with_evidence.csv', index=False)\n",
    "\n",
    "print(\"Paths have been updated and the file has been saved as 'updated_csv_file.csv'\")\n",
    "\n"
   ]
  }
 ],
 "metadata": {
  "kernelspec": {
   "display_name": "mai",
   "language": "python",
   "name": "python3"
  },
  "language_info": {
   "codemirror_mode": {
    "name": "ipython",
    "version": 3
   },
   "file_extension": ".py",
   "mimetype": "text/x-python",
   "name": "python",
   "nbconvert_exporter": "python",
   "pygments_lexer": "ipython3",
   "version": "3.9.19"
  }
 },
 "nbformat": 4,
 "nbformat_minor": 2
}

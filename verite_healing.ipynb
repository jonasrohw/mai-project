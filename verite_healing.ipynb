{
 "cells": [
  {
   "cell_type": "code",
   "execution_count": 4,
   "metadata": {},
   "outputs": [
    {
     "name": "stdout",
     "output_type": "stream",
     "text": [
      "Paths have been updated and the file has been saved as 'updated_csv_file.csv'\n"
     ]
    }
   ],
   "source": [
    "import pandas as pd\n",
    "\n",
    "# Load the CSV file into a DataFrame\n",
    "df = pd.read_csv('data/VERITE/VERITE_with_evidence.csv')\n",
    "\n",
    "# Function to update the image paths to the desired relative path\n",
    "def update_paths(path):\n",
    "    #new_path = path.replace('/fssd7/user-data/stefpapad/MISINFO/FIGMENTS/external_evidence', '../data/VERITE/external_evidence')\n",
    "    new_path = path.replace('/data/VERITE/external_evidence', 'data/VERITE/external_evidence')\n",
    "    return new_path\n",
    "\n",
    "# Update the 'image_path' and 'images_paths' columns\n",
    "df['image_path'] = df['image_path'].apply(update_paths)\n",
    "df['images_paths'] = df['images_paths'].apply(lambda x: str([update_paths(p) for p in eval(x)]))\n",
    "\n",
    "# Save the updated DataFrame back to a CSV file\n",
    "df.to_csv('data/VERITE/VERITE_with_evidence.csv', index=False)\n",
    "\n",
    "print(\"Paths have been updated and the file has been saved as 'updated_csv_file.csv'\")\n",
    "\n"
   ]
  },
  {
   "cell_type": "code",
   "execution_count": 1,
   "metadata": {},
   "outputs": [
    {
     "name": "stdout",
     "output_type": "stream",
     "text": [
      "Modified CSV file has been saved to data/VERITE/VERITE_ranked_evidence_clip_ViTL14.csv\n"
     ]
    }
   ],
   "source": [
    "import pandas as pd\n",
    "\n",
    "# Define the input file path and the output file path\n",
    "input_file = 'data/VERITE/VERITE_ranked_evidence_clip_ViTL14.csv'\n",
    "output_file = 'data/VERITE/VERITE_ranked_evidence_clip_ViTL14.csv'\n",
    "\n",
    "# Define the columns to keep\n",
    "columns_to_keep = [\n",
    "    'caption', 'image_path', 'captions', 'len_text_info',\n",
    "    'images_paths', 'num_images', 'label',\n",
    "    'img_ranked_items', 'img_sim_scores',\n",
    "    'txt_ranked_items', 'txt_sim_scores'\n",
    "]\n",
    "\n",
    "# Read the CSV file\n",
    "df = pd.read_csv(input_file)\n",
    "\n",
    "# Keep only the specified columns\n",
    "df = df[columns_to_keep]\n",
    "\n",
    "# Save the modified DataFrame to a new CSV file\n",
    "df.to_csv(output_file)\n",
    "\n",
    "print(f\"Modified CSV file has been saved to {output_file}\")\n"
   ]
  }
 ],
 "metadata": {
  "kernelspec": {
   "display_name": "mai",
   "language": "python",
   "name": "python3"
  },
  "language_info": {
   "codemirror_mode": {
    "name": "ipython",
    "version": 3
   },
   "file_extension": ".py",
   "mimetype": "text/x-python",
   "name": "python",
   "nbconvert_exporter": "python",
   "pygments_lexer": "ipython3",
   "version": "3.9.19"
  }
 },
 "nbformat": 4,
 "nbformat_minor": 2
}
